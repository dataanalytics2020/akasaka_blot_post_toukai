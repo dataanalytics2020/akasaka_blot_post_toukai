{
 "cells": [
  {
   "cell_type": "code",
   "execution_count": 5,
   "metadata": {},
   "outputs": [
    {
     "name": "stdout",
     "output_type": "stream",
     "text": [
      "0000000000\n"
     ]
    },
    {
     "ename": "TypeError",
     "evalue": "'_Environ' object is not callable",
     "output_type": "error",
     "traceback": [
      "\u001b[0;31m---------------------------------------------------------------------------\u001b[0m",
      "\u001b[0;31mTypeError\u001b[0m                                 Traceback (most recent call last)",
      "Cell \u001b[0;32mIn[5], line 11\u001b[0m\n\u001b[1;32m      9\u001b[0m \u001b[39mprint\u001b[39m(os\u001b[39m.\u001b[39menviron[\u001b[39m'\u001b[39m\u001b[39mAPI_KEY\u001b[39m\u001b[39m'\u001b[39m])\n\u001b[1;32m     10\u001b[0m os\u001b[39m.\u001b[39mname\n\u001b[0;32m---> 11\u001b[0m WORDPRESS_ID \u001b[39m=\u001b[39m os\u001b[39m.\u001b[39;49menviron(\u001b[39m'\u001b[39;49m\u001b[39mWORDPRESS_ID\u001b[39;49m\u001b[39m'\u001b[39;49m)\n\u001b[1;32m     12\u001b[0m WORDPRESS_PW \u001b[39m=\u001b[39m os\u001b[39m.\u001b[39menviron(\u001b[39m'\u001b[39m\u001b[39mWORDPRESS_PW\u001b[39m\u001b[39m'\u001b[39m)\n\u001b[1;32m     13\u001b[0m WORDPRESS_URL \u001b[39m=\u001b[39m os\u001b[39m.\u001b[39menviron(\u001b[39m'\u001b[39m\u001b[39mWORDPRESS_URL\u001b[39m\u001b[39m'\u001b[39m)\n",
      "\u001b[0;31mTypeError\u001b[0m: '_Environ' object is not callable"
     ]
    }
   ],
   "source": [
    "# 必要モジュールのインポート\n",
    "import os\n",
    "from dotenv import load_dotenv\n",
    "\n",
    "# .envファイルの内容を読み込見込む\n",
    "load_dotenv()\n",
    "\n",
    "# os.environを用いて環境変数を表示させます\n",
    "print(os.environ['API_KEY'])\n",
    "os.name\n",
    "WORDPRESS_ID = os.environ('WORDPRESS_ID')\n",
    "WORDPRESS_PW = os.environ('WORDPRESS_PW')\n",
    "WORDPRESS_URL = os.environ('WORDPRESS_URL')"
   ]
  },
  {
   "cell_type": "code",
   "execution_count": 12,
   "metadata": {},
   "outputs": [
    {
     "name": "stdout",
     "output_type": "stream",
     "text": [
      "before\n"
     ]
    },
    {
     "name": "stderr",
     "output_type": "stream",
     "text": [
      "[WDM] - Downloading: 100%|██████████| 7.05M/7.05M [00:01<00:00, 5.72MB/s]\n",
      "/tmp/ipykernel_10306/2595986647.py:12: DeprecationWarning: executable_path has been deprecated, please pass in a Service object\n",
      "  driver = webdriver.Chrome(ChromeDriverManager().install(),options=options)\n"
     ]
    },
    {
     "name": "stdout",
     "output_type": "stream",
     "text": [
      "after\n"
     ]
    }
   ],
   "source": [
    "from selenium import webdriver\n",
    "from selenium.webdriver.chrome.options import Options\n",
    "from selenium.webdriver.common.keys import Keys\n",
    "import chromedriver_binary\n",
    "from webdriver_manager.chrome import ChromeDriverManager\n",
    "\n",
    "options = Options()\n",
    "options.add_argument('--headless')\n",
    "options.add_argument(\"--no-sandbox\")\n",
    "\n",
    "print('before')\n",
    "driver = webdriver.Chrome(ChromeDriverManager().install(),options=options)\n",
    "print('after')\n",
    "driver.get('https://www.google.co.jp/')"
   ]
  }
 ],
 "metadata": {
  "kernelspec": {
   "display_name": "Python 3.10.8 64-bit",
   "language": "python",
   "name": "python3"
  },
  "language_info": {
   "codemirror_mode": {
    "name": "ipython",
    "version": 3
   },
   "file_extension": ".py",
   "mimetype": "text/x-python",
   "name": "python",
   "nbconvert_exporter": "python",
   "pygments_lexer": "ipython3",
   "version": "3.10.10"
  },
  "orig_nbformat": 4,
  "vscode": {
   "interpreter": {
    "hash": "949777d72b0d2535278d3dc13498b2535136f6dfe0678499012e853ee9abcab1"
   }
  }
 },
 "nbformat": 4,
 "nbformat_minor": 2
}
