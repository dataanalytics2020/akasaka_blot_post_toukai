{
 "cells": [
  {
   "cell_type": "code",
   "execution_count": 29,
   "metadata": {},
   "outputs": [
    {
     "data": {
      "text/plain": [
       "'TLS 1.3'"
      ]
     },
     "execution_count": 29,
     "metadata": {},
     "output_type": "execute_result"
    }
   ],
   "source": [
    "import requests\n",
    "#from urllib3.contrib import pyopenssl\n",
    "#print(pyopenssl.inject_into_urllib3())\n",
    "requests.get('https://www.howsmyssl.com/a/check').json()['tls_version']"
   ]
  },
  {
   "cell_type": "code",
   "execution_count": 26,
   "metadata": {},
   "outputs": [
    {
     "name": "stdout",
     "output_type": "stream",
     "text": [
      "ライブラリの読み込み完了\n"
     ]
    },
    {
     "name": "stderr",
     "output_type": "stream",
     "text": [
      "/tmp/ipykernel_10306/3092669465.py:66: DeprecationWarning: executable_path has been deprecated, please pass in a Service object\n",
      "  browser = webdriver.Chrome(ChromeDriverManager().install(),options=options)\n"
     ]
    }
   ],
   "source": [
    "from selenium import webdriver\n",
    "from selenium.webdriver.chrome.options import Options\n",
    "from selenium.webdriver.common.keys import Keys\n",
    "import chromedriver_binary\n",
    "from webdriver_manager.chrome import ChromeDriverManager\n",
    "\n",
    "# -*- coding: utf-8 -*-\n",
    "# 埼玉千葉神奈川記事反映本番用\n",
    "import requests\n",
    "import json\n",
    "from wordpress_xmlrpc.methods import media\n",
    "from oauth2client.service_account import ServiceAccountCredentials\n",
    "import gspread\n",
    "from wordpress_xmlrpc.methods.posts import GetPosts, NewPost\n",
    "from wordpress_xmlrpc.methods.users import GetUserInfo\n",
    "from wordpress_xmlrpc.methods import media, posts\n",
    "from wordpress_xmlrpc.compat import xmlrpc_client\n",
    "from wordpress_xmlrpc import Client, WordPressPost\n",
    "from PIL import Image, ImageDraw, ImageFont\n",
    "from dateutil.relativedelta import relativedelta\n",
    "import matplotlib.pyplot as plt\n",
    "import os\n",
    "from selenium import webdriver\n",
    "import time\n",
    "import pandas as pd\n",
    "from selenium.webdriver.common.alert import Alert\n",
    "from selenium.webdriver.support.ui import Select\n",
    "import urllib\n",
    "from bs4 import BeautifulSoup\n",
    "import re\n",
    "import csv\n",
    "import codecs\n",
    "import requests\n",
    "import urllib.request as req\n",
    "import glob\n",
    "import json\n",
    "from matplotlib.ticker import MaxNLocator\n",
    "import matplotlib.ticker as ticker\n",
    "from matplotlib import rcParams\n",
    "from webdriver_manager.chrome import ChromeDriverManager\n",
    "from selenium.webdriver.chrome.options import Options\n",
    "from datetime import timedelta\n",
    "import datetime\n",
    "import os\n",
    "from dotenv import load_dotenv\n",
    "from selenium.webdriver.common.by import By\n",
    "print('ライブラリの読み込み完了')\n",
    "\n",
    "# .envファイルの内容を読み込見込む\n",
    "load_dotenv()\n",
    "\n",
    "\n",
    "win_path = 'image/全媒体/'\n",
    "# 埼玉千葉神奈川記事反映本番用\n",
    "wp_completed_footer = ''\n",
    "for ken_number in [2, 3, 4]:\n",
    "    todouhuken = 'tokyo'\n",
    "    SERVICE_ACCOUT_FILE ='sercret_json/twitteranalytics-jsonsercretkey.json'\n",
    "    read_image_jpg = f\"image/全媒体/tokyo_ika_board.jpg\"\n",
    "    font_path = \"font/LightNovelPOPv2.otf\"\n",
    "    \n",
    "    options = Options()\n",
    "    #options.add_argument('--headless')\n",
    "    options.add_argument(\"--no-sandbox\") \n",
    "    options.add_argument('--user-agent=' + 'Mozilla/5.0 (Windows NT 10.0; Win64; x64) AppleWebKit/537.36 (KHTML, like Gecko) Chrome/94.0.4606.61 Safari/537.36')\n",
    "    browser = webdriver.Chrome(ChromeDriverManager().install(),options=options)\n",
    "\n",
    "    browser.implicitly_wait(10)\n",
    "    url_login = \"https://hall-navi.com/login_form_mail\"\n",
    "    # admageを開く\n",
    "    browser.get(url_login)\n",
    "    browser.implicitly_wait(10)\n",
    "    # id\n",
    "    element = browser.find_element(By.NAME, \"id\")\n",
    "    element.click()\n",
    "    browser.implicitly_wait(10)\n",
    "    element.send_keys('tsc953u@gmail.com')\n",
    "    # pw\n",
    "    element = browser.find_element(By.NAME, \"pass\")\n",
    "    element.click()\n",
    "    browser.implicitly_wait(10)\n",
    "    element.send_keys('jdhibh')\n",
    "    browser.implicitly_wait(10)\n",
    "    element = browser.find_element(By.CLASS_NAME,\"box_hole_view_report_input\")\n",
    "    element.click()\n",
    "    time.sleep(1)\n",
    "    browser.refresh()\n",
    "    break"
   ]
  }
 ],
 "metadata": {
  "kernelspec": {
   "display_name": "Python 3.10.8 64-bit",
   "language": "python",
   "name": "python3"
  },
  "language_info": {
   "codemirror_mode": {
    "name": "ipython",
    "version": 3
   },
   "file_extension": ".py",
   "mimetype": "text/x-python",
   "name": "python",
   "nbconvert_exporter": "python",
   "pygments_lexer": "ipython3",
   "version": "3.10.10"
  },
  "orig_nbformat": 4,
  "vscode": {
   "interpreter": {
    "hash": "949777d72b0d2535278d3dc13498b2535136f6dfe0678499012e853ee9abcab1"
   }
  }
 },
 "nbformat": 4,
 "nbformat_minor": 2
}
